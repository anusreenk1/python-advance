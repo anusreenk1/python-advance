{
  "nbformat": 4,
  "nbformat_minor": 0,
  "metadata": {
    "colab": {
      "name": "module, recursion, anonymous.ipynb",
      "provenance": [],
      "authorship_tag": "ABX9TyOdz9D5haWa68WPrXhaNFwJ",
      "include_colab_link": true
    },
    "kernelspec": {
      "name": "python3",
      "display_name": "Python 3"
    },
    "language_info": {
      "name": "python"
    }
  },
  "cells": [
    {
      "cell_type": "markdown",
      "metadata": {
        "id": "view-in-github",
        "colab_type": "text"
      },
      "source": [
        "<a href=\"https://colab.research.google.com/github/anusreenk1/python-advance/blob/main/module%2C_recursion%2C_anonymous.ipynb\" target=\"_parent\"><img src=\"https://colab.research.google.com/assets/colab-badge.svg\" alt=\"Open In Colab\"/></a>"
      ]
    },
    {
      "cell_type": "code",
      "execution_count": null,
      "metadata": {
        "colab": {
          "base_uri": "https://localhost:8080/"
        },
        "id": "eQDJ9k0DnXuJ",
        "outputId": "8389d673-413b-489d-e9e2-f974e357dae1"
      },
      "outputs": [
        {
          "output_type": "execute_result",
          "data": {
            "text/plain": [
              "15.0"
            ]
          },
          "metadata": {},
          "execution_count": 1
        }
      ],
      "source": [
        "import math\n",
        "math.sqrt(225)"
      ]
    },
    {
      "cell_type": "code",
      "source": [
        "math.factorial(15)"
      ],
      "metadata": {
        "colab": {
          "base_uri": "https://localhost:8080/"
        },
        "id": "W0CdnVSSnqX4",
        "outputId": "b5b53922-72f7-4dfe-a7c1-d08159b0e26c"
      },
      "execution_count": null,
      "outputs": [
        {
          "output_type": "execute_result",
          "data": {
            "text/plain": [
              "1307674368000"
            ]
          },
          "metadata": {},
          "execution_count": 2
        }
      ]
    },
    {
      "cell_type": "code",
      "source": [
        "import datetime\n",
        "datetime.date.today()"
      ],
      "metadata": {
        "colab": {
          "base_uri": "https://localhost:8080/"
        },
        "id": "N34lGbz3nyTI",
        "outputId": "37fae982-4219-4a5c-df50-46512d02b576"
      },
      "execution_count": null,
      "outputs": [
        {
          "output_type": "execute_result",
          "data": {
            "text/plain": [
              "datetime.date(2022, 7, 3)"
            ]
          },
          "metadata": {},
          "execution_count": 3
        }
      ]
    },
    {
      "cell_type": "code",
      "source": [
        "li = [1,2,3,4,5,6]\n",
        "print(max(li))\n",
        "print(min(li))"
      ],
      "metadata": {
        "colab": {
          "base_uri": "https://localhost:8080/"
        },
        "id": "-OfM4QZroLOX",
        "outputId": "45b72449-a9e7-45bb-e073-1b7b620edf6b"
      },
      "execution_count": null,
      "outputs": [
        {
          "output_type": "stream",
          "name": "stdout",
          "text": [
            "6\n",
            "1\n"
          ]
        }
      ]
    },
    {
      "cell_type": "code",
      "source": [
        "abs(-25)"
      ],
      "metadata": {
        "colab": {
          "base_uri": "https://localhost:8080/"
        },
        "id": "PZF5reGkoWDu",
        "outputId": "d9c2e3ff-6c41-43a9-f82b-7aa7165808b6"
      },
      "execution_count": null,
      "outputs": [
        {
          "output_type": "execute_result",
          "data": {
            "text/plain": [
              "25"
            ]
          },
          "metadata": {},
          "execution_count": 6
        }
      ]
    },
    {
      "cell_type": "code",
      "source": [
        "math.pow(4,3)"
      ],
      "metadata": {
        "colab": {
          "base_uri": "https://localhost:8080/"
        },
        "id": "5BtuZhLkovjW",
        "outputId": "d37b6159-791c-482c-8caf-b4587b6b2cf5"
      },
      "execution_count": null,
      "outputs": [
        {
          "output_type": "execute_result",
          "data": {
            "text/plain": [
              "64.0"
            ]
          },
          "metadata": {},
          "execution_count": 8
        }
      ]
    },
    {
      "cell_type": "code",
      "source": [
        "#Program to Find Numbers Divisible by Another Number\n",
        "\n",
        "def div(n):\n",
        "  return lambda a: a%n == 0\n",
        "\n",
        "c = div(7)\n",
        "c(21) \n",
        "\n"
      ],
      "metadata": {
        "colab": {
          "base_uri": "https://localhost:8080/"
        },
        "id": "Y1GHo3ozpFl-",
        "outputId": "7eadbd16-0336-4c99-dd52-00ac643daa72"
      },
      "execution_count": null,
      "outputs": [
        {
          "output_type": "execute_result",
          "data": {
            "text/plain": [
              "True"
            ]
          },
          "metadata": {},
          "execution_count": 22
        }
      ]
    },
    {
      "cell_type": "code",
      "source": [
        "num = lambda a: a%5 == 0\n",
        "print(num(6))  "
      ],
      "metadata": {
        "colab": {
          "base_uri": "https://localhost:8080/"
        },
        "id": "QPl4o0A1qN_N",
        "outputId": "e860d03c-25ad-4a39-be6e-5ac58bba38e3"
      },
      "execution_count": null,
      "outputs": [
        {
          "output_type": "stream",
          "name": "stdout",
          "text": [
            "False\n"
          ]
        }
      ]
    },
    {
      "cell_type": "code",
      "source": [
        "# program that prints the squares of numbers in a given list\n",
        "\n",
        "li = [1,2,3,4,5,6]\n",
        "sq = list(map(lambda x: x**2, li))\n",
        "print(sq)\n"
      ],
      "metadata": {
        "id": "PALnmHGYrqN4",
        "colab": {
          "base_uri": "https://localhost:8080/"
        },
        "outputId": "0e33d95f-5d96-4b8a-8094-672ac75e4539"
      },
      "execution_count": 3,
      "outputs": [
        {
          "output_type": "stream",
          "name": "stdout",
          "text": [
            "[1, 4, 9, 16, 25, 36]\n"
          ]
        }
      ]
    },
    {
      "cell_type": "code",
      "source": [
        "# factorial\n",
        "import math\n",
        "f = math.factorial(10)\n",
        "print(f)"
      ],
      "metadata": {
        "colab": {
          "base_uri": "https://localhost:8080/"
        },
        "id": "N9z9TN6ShezO",
        "outputId": "3f81511b-f32e-43bf-daef-e57278d23d3b"
      },
      "execution_count": 6,
      "outputs": [
        {
          "output_type": "stream",
          "name": "stdout",
          "text": [
            "3628800\n"
          ]
        }
      ]
    },
    {
      "cell_type": "code",
      "source": [
        "# Python program to find the sum of natural numbers\n",
        "\n",
        "def sum(n):\n",
        "   if n <= 1:\n",
        "       return n\n",
        "   else:\n",
        "       return n + sum(n-1)\n",
        "\n",
        "\n",
        "sum(2)"
      ],
      "metadata": {
        "colab": {
          "base_uri": "https://localhost:8080/"
        },
        "id": "J6v0tsZjkJB9",
        "outputId": "837baaa9-b5fe-44bb-c974-b873c84d3ae9"
      },
      "execution_count": 11,
      "outputs": [
        {
          "output_type": "execute_result",
          "data": {
            "text/plain": [
              "3"
            ]
          },
          "metadata": {},
          "execution_count": 11
        }
      ]
    },
    {
      "cell_type": "code",
      "source": [
        "# check armstrong number\n",
        "\n",
        "sum=0\n",
        "def check_ArmstrongNumber(num):\n",
        "    global sum\n",
        "    if (num!=0):\n",
        "        sum+=pow(num%10,3)\n",
        "        check_ArmstrongNumber(num//10)\n",
        "    return sum\n",
        "num=int(input(\"Enter a number:\"))\n",
        "if (check_ArmstrongNumber(num) == num):\n",
        "    print(\"It is an Armstrong Number.\")\n",
        "else:\n",
        "    print(\"It is not an Armstrong Number.\")"
      ],
      "metadata": {
        "colab": {
          "base_uri": "https://localhost:8080/"
        },
        "id": "PphlwWpdmMN1",
        "outputId": "6ffd5589-d2d8-4516-9b0a-d19ff742430c"
      },
      "execution_count": 12,
      "outputs": [
        {
          "output_type": "stream",
          "name": "stdout",
          "text": [
            "Enter a number:371\n",
            "It is an Armstrong Number.\n"
          ]
        }
      ]
    },
    {
      "cell_type": "code",
      "source": [
        "#fibonaacci\n",
        "\n",
        "def fibonacci(n):\n",
        "    if(n <= 1):\n",
        "        return n\n",
        "    else:\n",
        "        return(fibonacci(n-1) + fibonacci(n-2))\n",
        "n = int(input(\"Enter number of terms:\"))\n",
        "print(\"Fibonacci sequence:\")\n",
        "for i in range(n):\n",
        "    print(fibonacci(i))"
      ],
      "metadata": {
        "colab": {
          "base_uri": "https://localhost:8080/"
        },
        "id": "kHcu6vZfog3P",
        "outputId": "76888413-3c74-4d8c-9c3f-765ac197e68c"
      },
      "execution_count": 13,
      "outputs": [
        {
          "output_type": "stream",
          "name": "stdout",
          "text": [
            "Enter number of terms:10\n",
            "Fibonacci sequence:\n",
            "0\n",
            "1\n",
            "1\n",
            "2\n",
            "3\n",
            "5\n",
            "8\n",
            "13\n",
            "21\n",
            "34\n"
          ]
        }
      ]
    },
    {
      "cell_type": "code",
      "source": [
        ""
      ],
      "metadata": {
        "id": "Oj0m_ryLotu0"
      },
      "execution_count": 13,
      "outputs": []
    }
  ]
}