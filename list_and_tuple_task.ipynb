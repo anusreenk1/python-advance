{
  "nbformat": 4,
  "nbformat_minor": 0,
  "metadata": {
    "colab": {
      "name": "list and tuple task.ipynb",
      "provenance": [],
      "collapsed_sections": [],
      "authorship_tag": "ABX9TyPorN+fsLA3TkJg56gUZC/Y",
      "include_colab_link": true
    },
    "kernelspec": {
      "name": "python3",
      "display_name": "Python 3"
    },
    "language_info": {
      "name": "python"
    }
  },
  "cells": [
    {
      "cell_type": "markdown",
      "metadata": {
        "id": "view-in-github",
        "colab_type": "text"
      },
      "source": [
        "<a href=\"https://colab.research.google.com/github/anusreenk1/python-advance/blob/main/list_and_tuple_task.ipynb\" target=\"_parent\"><img src=\"https://colab.research.google.com/assets/colab-badge.svg\" alt=\"Open In Colab\"/></a>"
      ]
    },
    {
      "cell_type": "code",
      "execution_count": null,
      "metadata": {
        "id": "HMFgWyxAZ_zX",
        "colab": {
          "base_uri": "https://localhost:8080/"
        },
        "outputId": "b7e4436e-c8b0-4d17-f894-714d7661001f"
      },
      "outputs": [
        {
          "output_type": "stream",
          "name": "stdout",
          "text": [
            "(1, 2, 3, 4)\n"
          ]
        }
      ],
      "source": [
        "#create a tuple\n",
        "tup = (1,2,3,4)\n",
        "print(tup)"
      ]
    },
    {
      "cell_type": "code",
      "source": [
        "#tuple with different data types\n",
        "st  = 'bob went to town'\n",
        "tu = tuple(st)\n",
        "print(tu)"
      ],
      "metadata": {
        "colab": {
          "base_uri": "https://localhost:8080/"
        },
        "id": "dDCjx3ho7q9z",
        "outputId": "6c3d98f7-26df-4f31-da88-2ccc37e26227"
      },
      "execution_count": null,
      "outputs": [
        {
          "output_type": "stream",
          "name": "stdout",
          "text": [
            "('b', 'o', 'b', ' ', 'w', 'e', 'n', 't', ' ', 't', 'o', ' ', 't', 'o', 'w', 'n')\n"
          ]
        }
      ]
    },
    {
      "cell_type": "code",
      "source": [
        "li = [14,'got',10,'sheep']\n",
        "tup = tuple(li)\n",
        "print(tup)"
      ],
      "metadata": {
        "colab": {
          "base_uri": "https://localhost:8080/"
        },
        "id": "jeQDiJsQ8Pb3",
        "outputId": "3c3c722e-06e6-4730-9417-43581cb7726c"
      },
      "execution_count": null,
      "outputs": [
        {
          "output_type": "stream",
          "name": "stdout",
          "text": [
            "(14, 'got', 10, 'sheep')\n"
          ]
        }
      ]
    },
    {
      "cell_type": "code",
      "source": [
        "# create and take one item from tuple\n",
        "tup = (11,22,33,44)\n",
        "print(tup[1])"
      ],
      "metadata": {
        "colab": {
          "base_uri": "https://localhost:8080/"
        },
        "id": "PAVfSQE08dK8",
        "outputId": "60aa1304-12a6-4030-c89d-fc9eff2e0586"
      },
      "execution_count": null,
      "outputs": [
        {
          "output_type": "stream",
          "name": "stdout",
          "text": [
            "22\n"
          ]
        }
      ]
    },
    {
      "cell_type": "code",
      "source": [
        "# unpack a tuple\n",
        "tup = ('cat', 'mat', 'fat')\n",
        "a,b,c = tup\n",
        "print(a,b,c)\n"
      ],
      "metadata": {
        "colab": {
          "base_uri": "https://localhost:8080/"
        },
        "id": "8Cvya9Q_8syW",
        "outputId": "6a614c5e-75f7-48ca-ae1e-57ea362d315c"
      },
      "execution_count": null,
      "outputs": [
        {
          "output_type": "stream",
          "name": "stdout",
          "text": [
            "cat mat fat\n"
          ]
        }
      ]
    },
    {
      "cell_type": "code",
      "source": [
        "#add an item to tuple\n",
        "tup = (1,2,3)\n",
        "tup1 = list(tup)\n",
        "tup1.append(4)\n",
        "tup2 = tuple(tup1)\n",
        "print(tup2)"
      ],
      "metadata": {
        "id": "349BXTGa9PVr",
        "colab": {
          "base_uri": "https://localhost:8080/"
        },
        "outputId": "f1b6a6a4-2294-48c8-c573-773f655d9fbc"
      },
      "execution_count": 18,
      "outputs": [
        {
          "output_type": "stream",
          "name": "stdout",
          "text": [
            "(1, 2, 3, 4)\n"
          ]
        }
      ]
    },
    {
      "cell_type": "code",
      "source": [
        "#convert tuple to string\n",
        "tup =('a','b','c','d')\n",
        "print(''.join(tup))"
      ],
      "metadata": {
        "colab": {
          "base_uri": "https://localhost:8080/"
        },
        "id": "rr36QFtQ_QD1",
        "outputId": "a1914473-1e75-4ffd-be76-95d8ebbca704"
      },
      "execution_count": 30,
      "outputs": [
        {
          "output_type": "stream",
          "name": "stdout",
          "text": [
            "abcd\n"
          ]
        }
      ]
    },
    {
      "cell_type": "code",
      "source": [
        "#convert a list to tuple\n",
        "li =[11,22,33]\n",
        "tup = tuple(li)\n",
        "print(tup)"
      ],
      "metadata": {
        "colab": {
          "base_uri": "https://localhost:8080/"
        },
        "id": "pKIS2qE7AyGe",
        "outputId": "993e5700-6345-4948-d317-b3e6a212306c"
      },
      "execution_count": 24,
      "outputs": [
        {
          "output_type": "stream",
          "name": "stdout",
          "text": [
            "(11, 22, 33)\n"
          ]
        }
      ]
    },
    {
      "cell_type": "code",
      "source": [
        "#length of tuple\n",
        "tup =(12,1,31,18)\n",
        "print(len(tup))"
      ],
      "metadata": {
        "colab": {
          "base_uri": "https://localhost:8080/"
        },
        "id": "MROOiIkHBKa1",
        "outputId": "218ff81a-e0be-42c5-dcfd-a46ec7f10b2b"
      },
      "execution_count": 26,
      "outputs": [
        {
          "output_type": "stream",
          "name": "stdout",
          "text": [
            "4\n"
          ]
        }
      ]
    },
    {
      "cell_type": "code",
      "source": [
        "#reverse a tuple\n",
        "tup[::-1]\n"
      ],
      "metadata": {
        "colab": {
          "base_uri": "https://localhost:8080/"
        },
        "id": "4YfgCY63Bm7M",
        "outputId": "928f5db6-10ff-413e-d53a-58bac0d30acf"
      },
      "execution_count": 27,
      "outputs": [
        {
          "output_type": "execute_result",
          "data": {
            "text/plain": [
              "(18, 31, 1, 12)"
            ]
          },
          "metadata": {},
          "execution_count": 27
        }
      ]
    }
  ]
}