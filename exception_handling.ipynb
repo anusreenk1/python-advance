{
  "nbformat": 4,
  "nbformat_minor": 0,
  "metadata": {
    "colab": {
      "name": "exception handling.ipynb",
      "provenance": [],
      "authorship_tag": "ABX9TyOcZRmOlfeR/1K/2TElwGra",
      "include_colab_link": true
    },
    "kernelspec": {
      "name": "python3",
      "display_name": "Python 3"
    },
    "language_info": {
      "name": "python"
    }
  },
  "cells": [
    {
      "cell_type": "markdown",
      "metadata": {
        "id": "view-in-github",
        "colab_type": "text"
      },
      "source": [
        "<a href=\"https://colab.research.google.com/github/anusreenk1/python-advance/blob/main/exception_handling.ipynb\" target=\"_parent\"><img src=\"https://colab.research.google.com/assets/colab-badge.svg\" alt=\"Open In Colab\"/></a>"
      ]
    },
    {
      "cell_type": "code",
      "execution_count": 4,
      "metadata": {
        "colab": {
          "base_uri": "https://localhost:8080/"
        },
        "id": "jUz3v1boKjs7",
        "outputId": "e3218441-9015-4e44-a44c-57c33ab881dd"
      },
      "outputs": [
        {
          "output_type": "stream",
          "name": "stdout",
          "text": [
            "name 'b' is not defined\n"
          ]
        }
      ],
      "source": [
        "# Python program to demonstrate NameError\n",
        "def calc(a):\n",
        "  try:\n",
        "    sum = a+b\n",
        "    return sum\n",
        "  except Exception as e:\n",
        "    print(e)\n",
        "\n",
        "\n",
        "calc(4)\n",
        "\n",
        "   \n",
        "  \n",
        "\n"
      ]
    },
    {
      "cell_type": "code",
      "source": [
        "# Python program to demonstrate AttributeError\n",
        "class Operation:\n",
        "  def __init__(self,a):\n",
        "    self.a = a\n",
        "\n",
        "\n",
        "  def product(self):\n",
        "    try:\n",
        "      mul = self.a*self.b\n",
        "      print(mul)\n",
        "      \n",
        "    except AttributeError as a:\n",
        "      print('no such attribute')\n",
        "   \n",
        "      \n",
        "\n",
        "\n",
        "o = Operation(4)\n",
        "o.product()\n",
        "\n",
        "\n"
      ],
      "metadata": {
        "colab": {
          "base_uri": "https://localhost:8080/"
        },
        "id": "dCPjg2a0Q1TE",
        "outputId": "da20c714-2837-49fb-e8af-b1d01c08724e"
      },
      "execution_count": 14,
      "outputs": [
        {
          "output_type": "stream",
          "name": "stdout",
          "text": [
            "no such attribute\n"
          ]
        }
      ]
    },
    {
      "cell_type": "code",
      "source": [
        "# Python program to demonstrate IndexError\n",
        "li = [1,2,3,4]\n",
        "try:\n",
        " \n",
        "  print(li[1])\n",
        "  print(li[2])\n",
        "  print(li[7])\n",
        "  \n",
        "except IndexError as i:\n",
        "  print('write an element present in the list: ', i)\n",
        "finally:\n",
        "  print('good bye')"
      ],
      "metadata": {
        "colab": {
          "base_uri": "https://localhost:8080/"
        },
        "id": "PstelIcXYDCm",
        "outputId": "da17da40-a621-4ff3-a484-a2f5f56807f3"
      },
      "execution_count": 46,
      "outputs": [
        {
          "output_type": "stream",
          "name": "stdout",
          "text": [
            "2\n",
            "3\n",
            "write an element present in the list:  list index out of range\n",
            "good bye\n"
          ]
        }
      ]
    },
    {
      "cell_type": "code",
      "source": [
        "# Python program to demonstrate KeyError\n",
        "dic = {1:'a', 2:'b',3:'y'}\n",
        "try:\n",
        "  print(dic[1])\n",
        "  print(dic[8])\n",
        " \n",
        " \n",
        "except KeyError as k:\n",
        "  print('element does not find the dictionary')"
      ],
      "metadata": {
        "colab": {
          "base_uri": "https://localhost:8080/"
        },
        "id": "nhVTZfaLcHyl",
        "outputId": "b14c572e-982e-4bb3-c086-6fd24bce1b5d"
      },
      "execution_count": 43,
      "outputs": [
        {
          "output_type": "stream",
          "name": "stdout",
          "text": [
            "a\n",
            "element does not find the dictionary\n"
          ]
        }
      ]
    },
    {
      "cell_type": "code",
      "source": [
        "# Python Program to Handle Divide by Zero Exception\n",
        "def div(a,b):\n",
        "  try:\n",
        "    div = a//b\n",
        "    print(div)\n",
        "  except ZeroDivisionError as z:\n",
        "    print('can not divide by zero')\n",
        "  finally:\n",
        "    print('operation done')\n",
        "\n",
        "div(5,6)\n",
        "div(1,0)\n",
        "  "
      ],
      "metadata": {
        "colab": {
          "base_uri": "https://localhost:8080/"
        },
        "id": "MOD-rRwIdKJk",
        "outputId": "318dcaab-37f9-488e-c808-234ed4630c53"
      },
      "execution_count": 49,
      "outputs": [
        {
          "output_type": "stream",
          "name": "stdout",
          "text": [
            "0\n",
            "operation done\n",
            "can not divide by zero\n",
            "operation done\n"
          ]
        }
      ]
    },
    {
      "cell_type": "code",
      "source": [
        "# Create a function that will throw an exception if interest rate is greater than 100.\n",
        "def interest_calculator(p,t,r):\n",
        "  try:\n",
        "    I = p*t*r\n",
        "    if I > 100:\n",
        "      raise Exception ('interest is greater than 100 and much higher than others')\n",
        "\n",
        "    print(I)\n",
        "    \n",
        "  except Exception as e:\n",
        "    print(e)\n",
        "    \n",
        "interest_calculator(100000,1,.15)\n"
      ],
      "metadata": {
        "colab": {
          "base_uri": "https://localhost:8080/"
        },
        "id": "q_eNBq1kmHdt",
        "outputId": "484d1dc0-b0b2-47d2-df9f-c8fdd9ad6547"
      },
      "execution_count": 59,
      "outputs": [
        {
          "output_type": "stream",
          "name": "stdout",
          "text": [
            "interest is greater than 100 and much higher than others\n"
          ]
        }
      ]
    },
    {
      "cell_type": "code",
      "source": [
        ""
      ],
      "metadata": {
        "id": "LSOe4j8YsG2e"
      },
      "execution_count": null,
      "outputs": []
    }
  ]
}